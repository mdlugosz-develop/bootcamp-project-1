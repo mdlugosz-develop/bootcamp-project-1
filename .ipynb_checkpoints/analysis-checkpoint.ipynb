{
 "cells": [
  {
   "cell_type": "code",
   "execution_count": 1,
   "metadata": {
    "executionInfo": {
     "elapsed": 204,
     "status": "ok",
     "timestamp": 1728780949832,
     "user": {
      "displayName": "G R",
      "userId": "01677386158693807048"
     },
     "user_tz": 420
    },
    "id": "h9YMf3nI3dJt"
   },
   "outputs": [],
   "source": [
    "import pandas as pd\n",
    "import matplotlib.pyplot as plt\n",
    "from prophet import Prophet"
   ]
  },
  {
   "cell_type": "code",
   "execution_count": null,
   "metadata": {
    "colab": {
     "base_uri": "https://localhost:8080/",
     "height": 71
    },
    "executionInfo": {
     "elapsed": 631473,
     "status": "ok",
     "timestamp": 1728781590857,
     "user": {
      "displayName": "G R",
      "userId": "01677386158693807048"
     },
     "user_tz": 420
    },
    "id": "V_S9CFoy4KQM",
    "outputId": "8b81b649-576e-4b7a-996c-243bbc611b1d"
   },
   "outputs": [],
   "source": [
    "# from google.colab import files\n",
    "# uploaded = files.upload()"
   ]
  },
  {
   "cell_type": "code",
   "execution_count": 5,
   "metadata": {
    "colab": {
     "base_uri": "https://localhost:8080/",
     "height": 588
    },
    "executionInfo": {
     "elapsed": 2834,
     "status": "ok",
     "timestamp": 1728781649508,
     "user": {
      "displayName": "G R",
      "userId": "01677386158693807048"
     },
     "user_tz": 420
    },
    "id": "_uOKvpKl3dJv",
    "outputId": "a38ca0bf-cd86-4f0f-c014-c01d2b5d4435"
   },
   "outputs": [
    {
     "data": {
      "text/html": [
       "<div>\n",
       "<style scoped>\n",
       "    .dataframe tbody tr th:only-of-type {\n",
       "        vertical-align: middle;\n",
       "    }\n",
       "\n",
       "    .dataframe tbody tr th {\n",
       "        vertical-align: top;\n",
       "    }\n",
       "\n",
       "    .dataframe thead th {\n",
       "        text-align: right;\n",
       "    }\n",
       "</style>\n",
       "<table border=\"1\" class=\"dataframe\">\n",
       "  <thead>\n",
       "    <tr style=\"text-align: right;\">\n",
       "      <th></th>\n",
       "      <th>As of Date</th>\n",
       "      <th>Fiscal Year</th>\n",
       "      <th>Region</th>\n",
       "      <th>Borrower Country / Economy</th>\n",
       "      <th>Borrower Country / Economy Code</th>\n",
       "      <th>Project ID</th>\n",
       "      <th>Project Name</th>\n",
       "      <th>Project Global Practice</th>\n",
       "      <th>Procurement Category</th>\n",
       "      <th>Procurement Method</th>\n",
       "      <th>WB Contract Number</th>\n",
       "      <th>Contract Description</th>\n",
       "      <th>Borrower Contract Reference Number</th>\n",
       "      <th>Contract Signing Date</th>\n",
       "      <th>Supplier ID</th>\n",
       "      <th>Supplier</th>\n",
       "      <th>Supplier Country / Economy</th>\n",
       "      <th>Supplier Country / Economy Code</th>\n",
       "      <th>Supplier Contract Amount (USD)</th>\n",
       "      <th>Review type</th>\n",
       "    </tr>\n",
       "  </thead>\n",
       "  <tbody>\n",
       "    <tr>\n",
       "      <th>0</th>\n",
       "      <td>10/09/2024 00:00:00</td>\n",
       "      <td>2017</td>\n",
       "      <td>SOUTH ASIA</td>\n",
       "      <td>Afghanistan</td>\n",
       "      <td>AF</td>\n",
       "      <td>P120397</td>\n",
       "      <td>Afghanistan Agricultural Inputs Project (AAIP)</td>\n",
       "      <td>Agriculture, Fishing and Forestry;Industry, Tr...</td>\n",
       "      <td>Consultant Services</td>\n",
       "      <td>Individual Consultant Selection</td>\n",
       "      <td>1318576</td>\n",
       "      <td>Legal Specialst for Quarantine</td>\n",
       "      <td>MAIL/WB/IAIDS/IC/012</td>\n",
       "      <td>11/01/2016 00:00:00</td>\n",
       "      <td>192025.0</td>\n",
       "      <td>MR. LUTFULLAH SADAT</td>\n",
       "      <td>Afghanistan</td>\n",
       "      <td>AF</td>\n",
       "      <td>27006.76</td>\n",
       "      <td>Prior</td>\n",
       "    </tr>\n",
       "    <tr>\n",
       "      <th>1</th>\n",
       "      <td>10/09/2024 00:00:00</td>\n",
       "      <td>2017</td>\n",
       "      <td>MIDDLE EAST AND NORTH AFRICA</td>\n",
       "      <td>Lebanon</td>\n",
       "      <td>LB</td>\n",
       "      <td>P133226</td>\n",
       "      <td>Lebanon Fiscal Management Reform 2</td>\n",
       "      <td>Public Administration</td>\n",
       "      <td>Consultant Services</td>\n",
       "      <td>Individual Consultant Selection</td>\n",
       "      <td>1517913</td>\n",
       "      <td>Signed Contract relative to the PMU Positions ...</td>\n",
       "      <td>2</td>\n",
       "      <td>11/30/2016 00:00:00</td>\n",
       "      <td>173999.0</td>\n",
       "      <td>MARWAN TAMIM (MR.)</td>\n",
       "      <td>Lebanon</td>\n",
       "      <td>LB</td>\n",
       "      <td>151200.00</td>\n",
       "      <td>Prior</td>\n",
       "    </tr>\n",
       "    <tr>\n",
       "      <th>2</th>\n",
       "      <td>10/09/2024 00:00:00</td>\n",
       "      <td>2017</td>\n",
       "      <td>MIDDLE EAST AND NORTH AFRICA</td>\n",
       "      <td>Lebanon</td>\n",
       "      <td>LB</td>\n",
       "      <td>P133226</td>\n",
       "      <td>Lebanon Fiscal Management Reform 2</td>\n",
       "      <td>Public Administration</td>\n",
       "      <td>Consultant Services</td>\n",
       "      <td>Individual Consultant Selection</td>\n",
       "      <td>1517959</td>\n",
       "      <td>Title on Consulting services as International ...</td>\n",
       "      <td>4</td>\n",
       "      <td>11/02/2016 00:00:00</td>\n",
       "      <td>166247.0</td>\n",
       "      <td>MOUNIR RACHED</td>\n",
       "      <td>Lebanon</td>\n",
       "      <td>LB</td>\n",
       "      <td>312000.00</td>\n",
       "      <td>Prior</td>\n",
       "    </tr>\n",
       "    <tr>\n",
       "      <th>3</th>\n",
       "      <td>10/09/2024 00:00:00</td>\n",
       "      <td>2017</td>\n",
       "      <td>MIDDLE EAST AND NORTH AFRICA</td>\n",
       "      <td>Lebanon</td>\n",
       "      <td>LB</td>\n",
       "      <td>P149242</td>\n",
       "      <td>Emergency National Poverty Targeting Program P...</td>\n",
       "      <td>Social Protection</td>\n",
       "      <td>Consultant Services</td>\n",
       "      <td>Direct Selection</td>\n",
       "      <td>1524264</td>\n",
       "      <td>Procurement Assistant - FOT</td>\n",
       "      <td>C-IC036</td>\n",
       "      <td>09/07/2016 00:00:00</td>\n",
       "      <td>178397.0</td>\n",
       "      <td>JESSY EL KHOURY</td>\n",
       "      <td>Lebanon</td>\n",
       "      <td>LB</td>\n",
       "      <td>76800.00</td>\n",
       "      <td>Prior</td>\n",
       "    </tr>\n",
       "    <tr>\n",
       "      <th>4</th>\n",
       "      <td>10/09/2024 00:00:00</td>\n",
       "      <td>2017</td>\n",
       "      <td>MIDDLE EAST AND NORTH AFRICA</td>\n",
       "      <td>Lebanon</td>\n",
       "      <td>LB</td>\n",
       "      <td>P149242</td>\n",
       "      <td>Emergency National Poverty Targeting Program P...</td>\n",
       "      <td>Social Protection</td>\n",
       "      <td>Consultant Services</td>\n",
       "      <td>Direct Selection</td>\n",
       "      <td>1524268</td>\n",
       "      <td>Procurement Specialist - FOT</td>\n",
       "      <td>C-IC035</td>\n",
       "      <td>09/07/2016 00:00:00</td>\n",
       "      <td>133992.0</td>\n",
       "      <td>NATHALIE GEBRAYEL</td>\n",
       "      <td>Lebanon</td>\n",
       "      <td>LB</td>\n",
       "      <td>195200.00</td>\n",
       "      <td>Prior</td>\n",
       "    </tr>\n",
       "  </tbody>\n",
       "</table>\n",
       "</div>"
      ],
      "text/plain": [
       "            As of Date  Fiscal Year                        Region  \\\n",
       "0  10/09/2024 00:00:00         2017                    SOUTH ASIA   \n",
       "1  10/09/2024 00:00:00         2017  MIDDLE EAST AND NORTH AFRICA   \n",
       "2  10/09/2024 00:00:00         2017  MIDDLE EAST AND NORTH AFRICA   \n",
       "3  10/09/2024 00:00:00         2017  MIDDLE EAST AND NORTH AFRICA   \n",
       "4  10/09/2024 00:00:00         2017  MIDDLE EAST AND NORTH AFRICA   \n",
       "\n",
       "  Borrower Country / Economy Borrower Country / Economy Code Project ID  \\\n",
       "0                Afghanistan                              AF    P120397   \n",
       "1                    Lebanon                              LB    P133226   \n",
       "2                    Lebanon                              LB    P133226   \n",
       "3                    Lebanon                              LB    P149242   \n",
       "4                    Lebanon                              LB    P149242   \n",
       "\n",
       "                                        Project Name  \\\n",
       "0     Afghanistan Agricultural Inputs Project (AAIP)   \n",
       "1                 Lebanon Fiscal Management Reform 2   \n",
       "2                 Lebanon Fiscal Management Reform 2   \n",
       "3  Emergency National Poverty Targeting Program P...   \n",
       "4  Emergency National Poverty Targeting Program P...   \n",
       "\n",
       "                             Project Global Practice Procurement Category  \\\n",
       "0  Agriculture, Fishing and Forestry;Industry, Tr...  Consultant Services   \n",
       "1                              Public Administration  Consultant Services   \n",
       "2                              Public Administration  Consultant Services   \n",
       "3                                  Social Protection  Consultant Services   \n",
       "4                                  Social Protection  Consultant Services   \n",
       "\n",
       "                Procurement Method  WB Contract Number  \\\n",
       "0  Individual Consultant Selection             1318576   \n",
       "1  Individual Consultant Selection             1517913   \n",
       "2  Individual Consultant Selection             1517959   \n",
       "3                 Direct Selection             1524264   \n",
       "4                 Direct Selection             1524268   \n",
       "\n",
       "                                Contract Description  \\\n",
       "0                     Legal Specialst for Quarantine   \n",
       "1  Signed Contract relative to the PMU Positions ...   \n",
       "2  Title on Consulting services as International ...   \n",
       "3                        Procurement Assistant - FOT   \n",
       "4                       Procurement Specialist - FOT   \n",
       "\n",
       "  Borrower Contract Reference Number Contract Signing Date  Supplier ID  \\\n",
       "0               MAIL/WB/IAIDS/IC/012   11/01/2016 00:00:00     192025.0   \n",
       "1                                  2   11/30/2016 00:00:00     173999.0   \n",
       "2                                  4   11/02/2016 00:00:00     166247.0   \n",
       "3                            C-IC036   09/07/2016 00:00:00     178397.0   \n",
       "4                            C-IC035   09/07/2016 00:00:00     133992.0   \n",
       "\n",
       "              Supplier Supplier Country / Economy  \\\n",
       "0  MR. LUTFULLAH SADAT                Afghanistan   \n",
       "1   MARWAN TAMIM (MR.)                    Lebanon   \n",
       "2        MOUNIR RACHED                    Lebanon   \n",
       "3      JESSY EL KHOURY                    Lebanon   \n",
       "4    NATHALIE GEBRAYEL                    Lebanon   \n",
       "\n",
       "  Supplier Country / Economy Code  Supplier Contract Amount (USD) Review type  \n",
       "0                              AF                        27006.76       Prior  \n",
       "1                              LB                       151200.00       Prior  \n",
       "2                              LB                       312000.00       Prior  \n",
       "3                              LB                        76800.00       Prior  \n",
       "4                              LB                       195200.00       Prior  "
      ]
     },
     "execution_count": 5,
     "metadata": {},
     "output_type": "execute_result"
    }
   ],
   "source": [
    "df = pd.read_csv('Data/contract_awards_in_investment_project_financing_09-10-2024.csv')\n",
    "df.head()"
   ]
  },
  {
   "cell_type": "code",
   "execution_count": 7,
   "metadata": {
    "colab": {
     "base_uri": "https://localhost:8080/",
     "height": 423
    },
    "executionInfo": {
     "elapsed": 371,
     "status": "ok",
     "timestamp": 1728781652103,
     "user": {
      "displayName": "G R",
      "userId": "01677386158693807048"
     },
     "user_tz": 420
    },
    "id": "INribDPm3dJw",
    "outputId": "866b1072-a796-4656-847a-8ea6be549114"
   },
   "outputs": [
    {
     "data": {
      "text/html": [
       "<div>\n",
       "<style scoped>\n",
       "    .dataframe tbody tr th:only-of-type {\n",
       "        vertical-align: middle;\n",
       "    }\n",
       "\n",
       "    .dataframe tbody tr th {\n",
       "        vertical-align: top;\n",
       "    }\n",
       "\n",
       "    .dataframe thead th {\n",
       "        text-align: right;\n",
       "    }\n",
       "</style>\n",
       "<table border=\"1\" class=\"dataframe\">\n",
       "  <thead>\n",
       "    <tr style=\"text-align: right;\">\n",
       "      <th></th>\n",
       "      <th>Project ID</th>\n",
       "      <th>WB Contract Number</th>\n",
       "      <th>Supplier Contract Amount (USD)</th>\n",
       "    </tr>\n",
       "  </thead>\n",
       "  <tbody>\n",
       "    <tr>\n",
       "      <th>0</th>\n",
       "      <td>P050529</td>\n",
       "      <td>1540714</td>\n",
       "      <td>97000.00</td>\n",
       "    </tr>\n",
       "    <tr>\n",
       "      <th>1</th>\n",
       "      <td>P050529</td>\n",
       "      <td>1541294</td>\n",
       "      <td>80236.13</td>\n",
       "    </tr>\n",
       "    <tr>\n",
       "      <th>2</th>\n",
       "      <td>P050529</td>\n",
       "      <td>1541332</td>\n",
       "      <td>79969.00</td>\n",
       "    </tr>\n",
       "    <tr>\n",
       "      <th>3</th>\n",
       "      <td>P055120</td>\n",
       "      <td>1545554</td>\n",
       "      <td>901914.00</td>\n",
       "    </tr>\n",
       "    <tr>\n",
       "      <th>4</th>\n",
       "      <td>P064836</td>\n",
       "      <td>1545100</td>\n",
       "      <td>4293699.78</td>\n",
       "    </tr>\n",
       "    <tr>\n",
       "      <th>...</th>\n",
       "      <td>...</td>\n",
       "      <td>...</td>\n",
       "      <td>...</td>\n",
       "    </tr>\n",
       "    <tr>\n",
       "      <th>242435</th>\n",
       "      <td>P507066</td>\n",
       "      <td>1793773</td>\n",
       "      <td>48051.81</td>\n",
       "    </tr>\n",
       "    <tr>\n",
       "      <th>242436</th>\n",
       "      <td>P507066</td>\n",
       "      <td>1794892</td>\n",
       "      <td>14257.30</td>\n",
       "    </tr>\n",
       "    <tr>\n",
       "      <th>242437</th>\n",
       "      <td>P507066</td>\n",
       "      <td>1795803</td>\n",
       "      <td>1221688.96</td>\n",
       "    </tr>\n",
       "    <tr>\n",
       "      <th>242438</th>\n",
       "      <td>P507066</td>\n",
       "      <td>1796335</td>\n",
       "      <td>469908.62</td>\n",
       "    </tr>\n",
       "    <tr>\n",
       "      <th>242439</th>\n",
       "      <td>P507066</td>\n",
       "      <td>1797083</td>\n",
       "      <td>374893.45</td>\n",
       "    </tr>\n",
       "  </tbody>\n",
       "</table>\n",
       "<p>242440 rows × 3 columns</p>\n",
       "</div>"
      ],
      "text/plain": [
       "       Project ID  WB Contract Number  Supplier Contract Amount (USD)\n",
       "0         P050529             1540714                        97000.00\n",
       "1         P050529             1541294                        80236.13\n",
       "2         P050529             1541332                        79969.00\n",
       "3         P055120             1545554                       901914.00\n",
       "4         P064836             1545100                      4293699.78\n",
       "...           ...                 ...                             ...\n",
       "242435    P507066             1793773                        48051.81\n",
       "242436    P507066             1794892                        14257.30\n",
       "242437    P507066             1795803                      1221688.96\n",
       "242438    P507066             1796335                       469908.62\n",
       "242439    P507066             1797083                       374893.45\n",
       "\n",
       "[242440 rows x 3 columns]"
      ]
     },
     "metadata": {},
     "output_type": "display_data"
    }
   ],
   "source": [
    "\n",
    "grouped_df = df.groupby(by = ['Project ID', 'WB Contract Number'])['Supplier Contract Amount (USD)'].sum().reset_index()\n",
    "display(grouped_df)"
   ]
  },
  {
   "cell_type": "markdown",
   "metadata": {
    "id": "Xr4DsaCB3dJw"
   },
   "source": [
    "Top borrowing/supplying countries\n",
    "Trends spending by region/country/"
   ]
  },
  {
   "cell_type": "code",
   "execution_count": 9,
   "metadata": {
    "executionInfo": {
     "elapsed": 69218,
     "status": "ok",
     "timestamp": 1728785197136,
     "user": {
      "displayName": "G R",
      "userId": "01677386158693807048"
     },
     "user_tz": 420
    },
    "id": "NiR7MtUQ3dJx"
   },
   "outputs": [],
   "source": [
    "new_rows = []\n",
    "for index, row in df.iterrows():\n",
    "    if ';' not in str(row['Project Global Practice']):\n",
    "        new_rows.append(row)\n",
    "        continue\n",
    "    practices = str(row['Project Global Practice']).split(';')\n",
    "    for practice in practices:\n",
    "        new_row = row.copy()\n",
    "        new_row['Project Global Practice'] = practice.strip()\n",
    "        new_rows.append(new_row)\n",
    "\n",
    "new_df = pd.DataFrame(new_rows)"
   ]
  },
  {
   "cell_type": "code",
   "execution_count": 10,
   "metadata": {
    "colab": {
     "base_uri": "https://localhost:8080/",
     "height": 460
    },
    "executionInfo": {
     "elapsed": 204,
     "status": "ok",
     "timestamp": 1728785216953,
     "user": {
      "displayName": "G R",
      "userId": "01677386158693807048"
     },
     "user_tz": 420
    },
    "id": "CHUlQz7S3dJy",
    "outputId": "a7245770-7dda-4306-8305-fbddf5504d9f"
   },
   "outputs": [
    {
     "data": {
      "text/plain": [
       "Project Global Practice\n",
       "Agriculture, Fishing and Forestry              97805\n",
       "Public Administration                          63206\n",
       "Industry, Trade and Services                   57381\n",
       "Social Protection                              45651\n",
       "Water, Sanitation and Waste Management         42964\n",
       "Education                                      39624\n",
       "Transportation                                 35993\n",
       "Health                                         35544\n",
       "Information and Communications Technologies    31531\n",
       "Energy and Extractives                         18119\n",
       "Financial Sector                                6644\n",
       "Name: count, dtype: int64"
      ]
     },
     "execution_count": 10,
     "metadata": {},
     "output_type": "execute_result"
    }
   ],
   "source": [
    "new_df['Project Global Practice'].value_counts().head(20)"
   ]
  },
  {
   "cell_type": "markdown",
   "metadata": {
    "id": "zElIZJRW3dJy"
   },
   "source": [
    "\n",
    "***1. Top 5 Borrowing Counteries***"
   ]
  },
  {
   "cell_type": "code",
   "execution_count": 12,
   "metadata": {
    "colab": {
     "base_uri": "https://localhost:8080/",
     "height": 206
    },
    "executionInfo": {
     "elapsed": 201,
     "status": "ok",
     "timestamp": 1728785223546,
     "user": {
      "displayName": "G R",
      "userId": "01677386158693807048"
     },
     "user_tz": 420
    },
    "id": "Qa_6eVDF3dJz",
    "outputId": "130ce720-51d7-4185-9137-82fc70eb2f5d"
   },
   "outputs": [
    {
     "data": {
      "text/html": [
       "<div>\n",
       "<style scoped>\n",
       "    .dataframe tbody tr th:only-of-type {\n",
       "        vertical-align: middle;\n",
       "    }\n",
       "\n",
       "    .dataframe tbody tr th {\n",
       "        vertical-align: top;\n",
       "    }\n",
       "\n",
       "    .dataframe thead th {\n",
       "        text-align: right;\n",
       "    }\n",
       "</style>\n",
       "<table border=\"1\" class=\"dataframe\">\n",
       "  <thead>\n",
       "    <tr style=\"text-align: right;\">\n",
       "      <th></th>\n",
       "      <th>Borrower Country / Economy</th>\n",
       "      <th>Supplier Contract Amount (USD)</th>\n",
       "    </tr>\n",
       "  </thead>\n",
       "  <tbody>\n",
       "    <tr>\n",
       "      <th>0</th>\n",
       "      <td>India</td>\n",
       "      <td>2.044646e+10</td>\n",
       "    </tr>\n",
       "    <tr>\n",
       "      <th>1</th>\n",
       "      <td>Pakistan</td>\n",
       "      <td>1.845833e+10</td>\n",
       "    </tr>\n",
       "    <tr>\n",
       "      <th>2</th>\n",
       "      <td>Bangladesh</td>\n",
       "      <td>1.007276e+10</td>\n",
       "    </tr>\n",
       "    <tr>\n",
       "      <th>3</th>\n",
       "      <td>China</td>\n",
       "      <td>9.183416e+09</td>\n",
       "    </tr>\n",
       "    <tr>\n",
       "      <th>4</th>\n",
       "      <td>Western and Central Africa</td>\n",
       "      <td>8.398149e+09</td>\n",
       "    </tr>\n",
       "  </tbody>\n",
       "</table>\n",
       "</div>"
      ],
      "text/plain": [
       "   Borrower Country / Economy  Supplier Contract Amount (USD)\n",
       "0                       India                    2.044646e+10\n",
       "1                    Pakistan                    1.845833e+10\n",
       "2                  Bangladesh                    1.007276e+10\n",
       "3                       China                    9.183416e+09\n",
       "4  Western and Central Africa                    8.398149e+09"
      ]
     },
     "execution_count": 12,
     "metadata": {},
     "output_type": "execute_result"
    }
   ],
   "source": [
    "# Create a df for top 5 top borrowing countries\n",
    "df_countries = new_df.groupby('Borrower Country / Economy')['Supplier Contract Amount (USD)'].sum().reset_index()\n",
    "\n",
    "df_countries = df_countries.sort_values(by='Supplier Contract Amount (USD)', ascending=False).reset_index(drop=True)\n",
    "df_countries\n",
    "df_top_countries = df_countries.sort_values('Supplier Contract Amount (USD)', ascending=False).reset_index(drop=True).head(5)\n",
    "df_top_countries\n"
   ]
  },
  {
   "cell_type": "code",
   "execution_count": 13,
   "metadata": {
    "colab": {
     "base_uri": "https://localhost:8080/",
     "height": 606
    },
    "executionInfo": {
     "elapsed": 839,
     "status": "ok",
     "timestamp": 1728785226813,
     "user": {
      "displayName": "G R",
      "userId": "01677386158693807048"
     },
     "user_tz": 420
    },
    "id": "HlQErCCV3dJz",
    "outputId": "440fbd22-35ef-43de-a691-3063517f2748"
   },
   "outputs": [
    {
     "data": {
      "image/png": "[encoded data removed]",
      "text/plain": [
       "<Figure size 1000x600 with 1 Axes>"
      ]
     },
     "metadata": {},
     "output_type": "display_data"
    }
   ],
   "source": [
    "\n",
    "# Plot top 5 top borrowing countries\n",
    "plt.figure(figsize=(10, 6))\n",
    "plt.bar(df_top_countries['Borrower Country / Economy'], df_top_countries[\"Supplier Contract Amount (USD)\"], color='skyblue')\n",
    "plt.xlabel('Borrower Country / Economy')\n",
    "plt.ylabel('Total Borrowing Amount in Billions (USD)')\n",
    "plt.title('Top 5 Borrowing Countries by Amount')\n",
    "plt.xticks(rotation=90)\n",
    "top_countries = plt.tight_layout()\n",
    "plt.tight_layout()\n",
    "plt.show()"
   ]
  },
  {
   "cell_type": "markdown",
   "metadata": {
    "id": "ittuffkW3dJz"
   },
   "source": [
    "***2. Countries by borrowing money by year"
   ]
  },
  {
   "cell_type": "code",
   "execution_count": 15,
   "metadata": {
    "colab": {
     "base_uri": "https://localhost:8080/",
     "height": 482
    },
    "executionInfo": {
     "elapsed": 225,
     "status": "ok",
     "timestamp": 1728785230779,
     "user": {
      "displayName": "G R",
      "userId": "01677386158693807048"
     },
     "user_tz": 420
    },
    "id": "YVTUrWgNGzcN",
    "outputId": "d895508f-bc79-4138-e350-06769caccf84"
   },
   "outputs": [
    {
     "data": {
      "text/html": [
       "<div>\n",
       "<style scoped>\n",
       "    .dataframe tbody tr th:only-of-type {\n",
       "        vertical-align: middle;\n",
       "    }\n",
       "\n",
       "    .dataframe tbody tr th {\n",
       "        vertical-align: top;\n",
       "    }\n",
       "\n",
       "    .dataframe thead th {\n",
       "        text-align: right;\n",
       "    }\n",
       "</style>\n",
       "<table border=\"1\" class=\"dataframe\">\n",
       "  <thead>\n",
       "    <tr style=\"text-align: right;\">\n",
       "      <th>Borrower Country / Economy</th>\n",
       "      <th>Afghanistan</th>\n",
       "      <th>Africa</th>\n",
       "      <th>Albania</th>\n",
       "      <th>Angola</th>\n",
       "      <th>Argentina</th>\n",
       "      <th>Armenia</th>\n",
       "      <th>Azerbaijan</th>\n",
       "      <th>Bangladesh</th>\n",
       "      <th>Belarus</th>\n",
       "      <th>Belize</th>\n",
       "      <th>...</th>\n",
       "      <th>Uzbekistan</th>\n",
       "      <th>Vanuatu</th>\n",
       "      <th>Vietnam</th>\n",
       "      <th>West Bank and Gaza</th>\n",
       "      <th>Western Balkans</th>\n",
       "      <th>Western and Central Africa</th>\n",
       "      <th>World</th>\n",
       "      <th>Yemen, Republic of</th>\n",
       "      <th>Zambia</th>\n",
       "      <th>Zimbabwe</th>\n",
       "    </tr>\n",
       "    <tr>\n",
       "      <th>Fiscal Year</th>\n",
       "      <th></th>\n",
       "      <th></th>\n",
       "      <th></th>\n",
       "      <th></th>\n",
       "      <th></th>\n",
       "      <th></th>\n",
       "      <th></th>\n",
       "      <th></th>\n",
       "      <th></th>\n",
       "      <th></th>\n",
       "      <th></th>\n",
       "      <th></th>\n",
       "      <th></th>\n",
       "      <th></th>\n",
       "      <th></th>\n",
       "      <th></th>\n",
       "      <th></th>\n",
       "      <th></th>\n",
       "      <th></th>\n",
       "      <th></th>\n",
       "      <th></th>\n",
       "    </tr>\n",
       "  </thead>\n",
       "  <tbody>\n",
       "    <tr>\n",
       "      <th>2019</th>\n",
       "      <td>8.758000e+08</td>\n",
       "      <td>100678.13</td>\n",
       "      <td>6.667323e+07</td>\n",
       "      <td>1.049747e+08</td>\n",
       "      <td>3.779283e+08</td>\n",
       "      <td>5.858146e+07</td>\n",
       "      <td>2.254262e+07</td>\n",
       "      <td>1.149102e+09</td>\n",
       "      <td>3.245993e+07</td>\n",
       "      <td>6180336.88</td>\n",
       "      <td>...</td>\n",
       "      <td>2.193787e+08</td>\n",
       "      <td>44913326.68</td>\n",
       "      <td>9.757706e+08</td>\n",
       "      <td>15254055.21</td>\n",
       "      <td>48518.73</td>\n",
       "      <td>6.437788e+08</td>\n",
       "      <td>83960.00</td>\n",
       "      <td>NaN</td>\n",
       "      <td>1.024030e+08</td>\n",
       "      <td>3550445.76</td>\n",
       "    </tr>\n",
       "    <tr>\n",
       "      <th>2017</th>\n",
       "      <td>5.344141e+08</td>\n",
       "      <td>19568696.32</td>\n",
       "      <td>2.103315e+08</td>\n",
       "      <td>3.720866e+07</td>\n",
       "      <td>2.427006e+08</td>\n",
       "      <td>9.063492e+07</td>\n",
       "      <td>2.184883e+08</td>\n",
       "      <td>1.507886e+09</td>\n",
       "      <td>4.062079e+08</td>\n",
       "      <td>10216284.17</td>\n",
       "      <td>...</td>\n",
       "      <td>2.352484e+08</td>\n",
       "      <td>70029328.00</td>\n",
       "      <td>3.517336e+08</td>\n",
       "      <td>35398166.14</td>\n",
       "      <td>59520.50</td>\n",
       "      <td>6.206109e+08</td>\n",
       "      <td>592821.48</td>\n",
       "      <td>NaN</td>\n",
       "      <td>1.482779e+08</td>\n",
       "      <td>10731859.49</td>\n",
       "    </tr>\n",
       "    <tr>\n",
       "      <th>2020</th>\n",
       "      <td>3.453970e+08</td>\n",
       "      <td>NaN</td>\n",
       "      <td>1.848846e+08</td>\n",
       "      <td>2.366087e+08</td>\n",
       "      <td>2.373736e+08</td>\n",
       "      <td>6.136945e+07</td>\n",
       "      <td>6.585225e+06</td>\n",
       "      <td>1.623993e+09</td>\n",
       "      <td>4.790025e+07</td>\n",
       "      <td>3268882.79</td>\n",
       "      <td>...</td>\n",
       "      <td>3.809302e+08</td>\n",
       "      <td>57317398.64</td>\n",
       "      <td>1.279670e+09</td>\n",
       "      <td>18330786.38</td>\n",
       "      <td>5962839.53</td>\n",
       "      <td>6.126823e+08</td>\n",
       "      <td>224256.00</td>\n",
       "      <td>NaN</td>\n",
       "      <td>1.358987e+08</td>\n",
       "      <td>1816621.56</td>\n",
       "    </tr>\n",
       "    <tr>\n",
       "      <th>2021</th>\n",
       "      <td>3.181813e+08</td>\n",
       "      <td>NaN</td>\n",
       "      <td>1.041673e+08</td>\n",
       "      <td>1.628691e+08</td>\n",
       "      <td>9.876294e+07</td>\n",
       "      <td>9.090263e+07</td>\n",
       "      <td>6.374801e+07</td>\n",
       "      <td>1.119814e+09</td>\n",
       "      <td>2.354514e+08</td>\n",
       "      <td>3314006.45</td>\n",
       "      <td>...</td>\n",
       "      <td>2.244402e+08</td>\n",
       "      <td>69865438.03</td>\n",
       "      <td>1.506563e+09</td>\n",
       "      <td>24386434.32</td>\n",
       "      <td>2850109.54</td>\n",
       "      <td>1.096503e+09</td>\n",
       "      <td>716936.89</td>\n",
       "      <td>NaN</td>\n",
       "      <td>6.168675e+07</td>\n",
       "      <td>2657108.07</td>\n",
       "    </tr>\n",
       "    <tr>\n",
       "      <th>2018</th>\n",
       "      <td>3.028574e+08</td>\n",
       "      <td>4249712.06</td>\n",
       "      <td>5.885424e+07</td>\n",
       "      <td>1.552506e+08</td>\n",
       "      <td>8.263513e+08</td>\n",
       "      <td>5.076940e+07</td>\n",
       "      <td>9.029696e+07</td>\n",
       "      <td>1.133270e+09</td>\n",
       "      <td>6.222263e+06</td>\n",
       "      <td>3288582.49</td>\n",
       "      <td>...</td>\n",
       "      <td>6.081184e+07</td>\n",
       "      <td>23068073.90</td>\n",
       "      <td>3.589358e+08</td>\n",
       "      <td>6290217.49</td>\n",
       "      <td>15389420.02</td>\n",
       "      <td>3.352684e+08</td>\n",
       "      <td>618831.00</td>\n",
       "      <td>NaN</td>\n",
       "      <td>7.461990e+07</td>\n",
       "      <td>3222453.87</td>\n",
       "    </tr>\n",
       "    <tr>\n",
       "      <th>2022</th>\n",
       "      <td>3.086722e+06</td>\n",
       "      <td>NaN</td>\n",
       "      <td>6.463400e+07</td>\n",
       "      <td>3.670816e+08</td>\n",
       "      <td>1.472325e+09</td>\n",
       "      <td>1.164432e+08</td>\n",
       "      <td>3.158203e+08</td>\n",
       "      <td>1.756489e+09</td>\n",
       "      <td>6.519522e+07</td>\n",
       "      <td>2120892.25</td>\n",
       "      <td>...</td>\n",
       "      <td>4.313955e+08</td>\n",
       "      <td>18981222.88</td>\n",
       "      <td>1.832117e+09</td>\n",
       "      <td>51580461.81</td>\n",
       "      <td>8152235.68</td>\n",
       "      <td>1.309182e+09</td>\n",
       "      <td>942648.28</td>\n",
       "      <td>89250.00</td>\n",
       "      <td>1.025601e+08</td>\n",
       "      <td>3189529.35</td>\n",
       "    </tr>\n",
       "    <tr>\n",
       "      <th>2024</th>\n",
       "      <td>5.592236e+05</td>\n",
       "      <td>NaN</td>\n",
       "      <td>2.091663e+07</td>\n",
       "      <td>1.009489e+08</td>\n",
       "      <td>9.843783e+07</td>\n",
       "      <td>8.980331e+07</td>\n",
       "      <td>1.058099e+08</td>\n",
       "      <td>1.017068e+09</td>\n",
       "      <td>NaN</td>\n",
       "      <td>5882549.25</td>\n",
       "      <td>...</td>\n",
       "      <td>3.381416e+08</td>\n",
       "      <td>17940418.40</td>\n",
       "      <td>9.816837e+07</td>\n",
       "      <td>66371856.90</td>\n",
       "      <td>98169146.08</td>\n",
       "      <td>2.345674e+09</td>\n",
       "      <td>134733.29</td>\n",
       "      <td>263956.05</td>\n",
       "      <td>1.023641e+08</td>\n",
       "      <td>1145092.43</td>\n",
       "    </tr>\n",
       "    <tr>\n",
       "      <th>2025</th>\n",
       "      <td>6.722842e+04</td>\n",
       "      <td>NaN</td>\n",
       "      <td>1.268951e+06</td>\n",
       "      <td>1.279878e+07</td>\n",
       "      <td>1.225665e+07</td>\n",
       "      <td>2.367349e+06</td>\n",
       "      <td>1.936315e+05</td>\n",
       "      <td>1.038341e+07</td>\n",
       "      <td>NaN</td>\n",
       "      <td>536059.78</td>\n",
       "      <td>...</td>\n",
       "      <td>5.955394e+07</td>\n",
       "      <td>299851.02</td>\n",
       "      <td>1.083618e+07</td>\n",
       "      <td>9563156.40</td>\n",
       "      <td>6572500.06</td>\n",
       "      <td>1.065983e+08</td>\n",
       "      <td>NaN</td>\n",
       "      <td>NaN</td>\n",
       "      <td>1.901086e+06</td>\n",
       "      <td>34698.00</td>\n",
       "    </tr>\n",
       "    <tr>\n",
       "      <th>2023</th>\n",
       "      <td>NaN</td>\n",
       "      <td>NaN</td>\n",
       "      <td>1.137420e+08</td>\n",
       "      <td>1.424339e+08</td>\n",
       "      <td>5.937037e+08</td>\n",
       "      <td>1.000431e+08</td>\n",
       "      <td>1.338070e+08</td>\n",
       "      <td>7.547567e+08</td>\n",
       "      <td>1.960000e+04</td>\n",
       "      <td>1802120.78</td>\n",
       "      <td>...</td>\n",
       "      <td>4.810522e+08</td>\n",
       "      <td>54896081.61</td>\n",
       "      <td>6.325398e+08</td>\n",
       "      <td>39197795.19</td>\n",
       "      <td>22607442.26</td>\n",
       "      <td>1.327851e+09</td>\n",
       "      <td>972281.98</td>\n",
       "      <td>312895.51</td>\n",
       "      <td>1.556280e+08</td>\n",
       "      <td>1481013.21</td>\n",
       "    </tr>\n",
       "  </tbody>\n",
       "</table>\n",
       "<p>9 rows × 153 columns</p>\n",
       "</div>"
      ],
      "text/plain": [
       "Borrower Country / Economy   Afghanistan       Africa       Albania  \\\n",
       "Fiscal Year                                                           \n",
       "2019                        8.758000e+08    100678.13  6.667323e+07   \n",
       "2017                        5.344141e+08  19568696.32  2.103315e+08   \n",
       "2020                        3.453970e+08          NaN  1.848846e+08   \n",
       "2021                        3.181813e+08          NaN  1.041673e+08   \n",
       "2018                        3.028574e+08   4249712.06  5.885424e+07   \n",
       "2022                        3.086722e+06          NaN  6.463400e+07   \n",
       "2024                        5.592236e+05          NaN  2.091663e+07   \n",
       "2025                        6.722842e+04          NaN  1.268951e+06   \n",
       "2023                                 NaN          NaN  1.137420e+08   \n",
       "\n",
       "Borrower Country / Economy        Angola     Argentina       Armenia  \\\n",
       "Fiscal Year                                                            \n",
       "2019                        1.049747e+08  3.779283e+08  5.858146e+07   \n",
       "2017                        3.720866e+07  2.427006e+08  9.063492e+07   \n",
       "2020                        2.366087e+08  2.373736e+08  6.136945e+07   \n",
       "2021                        1.628691e+08  9.876294e+07  9.090263e+07   \n",
       "2018                        1.552506e+08  8.263513e+08  5.076940e+07   \n",
       "2022                        3.670816e+08  1.472325e+09  1.164432e+08   \n",
       "2024                        1.009489e+08  9.843783e+07  8.980331e+07   \n",
       "2025                        1.279878e+07  1.225665e+07  2.367349e+06   \n",
       "2023                        1.424339e+08  5.937037e+08  1.000431e+08   \n",
       "\n",
       "Borrower Country / Economy    Azerbaijan    Bangladesh       Belarus  \\\n",
       "Fiscal Year                                                            \n",
       "2019                        2.254262e+07  1.149102e+09  3.245993e+07   \n",
       "2017                        2.184883e+08  1.507886e+09  4.062079e+08   \n",
       "2020                        6.585225e+06  1.623993e+09  4.790025e+07   \n",
       "2021                        6.374801e+07  1.119814e+09  2.354514e+08   \n",
       "2018                        9.029696e+07  1.133270e+09  6.222263e+06   \n",
       "2022                        3.158203e+08  1.756489e+09  6.519522e+07   \n",
       "2024                        1.058099e+08  1.017068e+09           NaN   \n",
       "2025                        1.936315e+05  1.038341e+07           NaN   \n",
       "2023                        1.338070e+08  7.547567e+08  1.960000e+04   \n",
       "\n",
       "Borrower Country / Economy       Belize  ...    Uzbekistan      Vanuatu  \\\n",
       "Fiscal Year                              ...                              \n",
       "2019                         6180336.88  ...  2.193787e+08  44913326.68   \n",
       "2017                        10216284.17  ...  2.352484e+08  70029328.00   \n",
       "2020                         3268882.79  ...  3.809302e+08  57317398.64   \n",
       "2021                         3314006.45  ...  2.244402e+08  69865438.03   \n",
       "2018                         3288582.49  ...  6.081184e+07  23068073.90   \n",
       "2022                         2120892.25  ...  4.313955e+08  18981222.88   \n",
       "2024                         5882549.25  ...  3.381416e+08  17940418.40   \n",
       "2025                          536059.78  ...  5.955394e+07    299851.02   \n",
       "2023                         1802120.78  ...  4.810522e+08  54896081.61   \n",
       "\n",
       "Borrower Country / Economy       Vietnam  West Bank and Gaza  Western Balkans  \\\n",
       "Fiscal Year                                                                     \n",
       "2019                        9.757706e+08         15254055.21         48518.73   \n",
       "2017                        3.517336e+08         35398166.14         59520.50   \n",
       "2020                        1.279670e+09         18330786.38       5962839.53   \n",
       "2021                        1.506563e+09         24386434.32       2850109.54   \n",
       "2018                        3.589358e+08          6290217.49      15389420.02   \n",
       "2022                        1.832117e+09         51580461.81       8152235.68   \n",
       "2024                        9.816837e+07         66371856.90      98169146.08   \n",
       "2025                        1.083618e+07          9563156.40       6572500.06   \n",
       "2023                        6.325398e+08         39197795.19      22607442.26   \n",
       "\n",
       "Borrower Country / Economy  Western and Central Africa      World  \\\n",
       "Fiscal Year                                                         \n",
       "2019                                      6.437788e+08   83960.00   \n",
       "2017                                      6.206109e+08  592821.48   \n",
       "2020                                      6.126823e+08  224256.00   \n",
       "2021                                      1.096503e+09  716936.89   \n",
       "2018                                      3.352684e+08  618831.00   \n",
       "2022                                      1.309182e+09  942648.28   \n",
       "2024                                      2.345674e+09  134733.29   \n",
       "2025                                      1.065983e+08        NaN   \n",
       "2023                                      1.327851e+09  972281.98   \n",
       "\n",
       "Borrower Country / Economy  Yemen, Republic of        Zambia     Zimbabwe  \n",
       "Fiscal Year                                                                \n",
       "2019                                       NaN  1.024030e+08   3550445.76  \n",
       "2017                                       NaN  1.482779e+08  10731859.49  \n",
       "2020                                       NaN  1.358987e+08   1816621.56  \n",
       "2021                                       NaN  6.168675e+07   2657108.07  \n",
       "2018                                       NaN  7.461990e+07   3222453.87  \n",
       "2022                                  89250.00  1.025601e+08   3189529.35  \n",
       "2024                                 263956.05  1.023641e+08   1145092.43  \n",
       "2025                                       NaN  1.901086e+06     34698.00  \n",
       "2023                                 312895.51  1.556280e+08   1481013.21  \n",
       "\n",
       "[9 rows x 153 columns]"
      ]
     },
     "execution_count": 15,
     "metadata": {},
     "output_type": "execute_result"
    }
   ],
   "source": [
    "# create a pivot df to see the sum of Supplier Contract Amount (USD) by  Borrower Country / Economy by year\n",
    "pivot_df = pd.pivot_table(new_df, values='Supplier Contract Amount (USD)', index='Fiscal Year', columns='Borrower Country / Economy', aggfunc='sum')\n",
    "pivot_df = pivot_df.sort_values(by=list(pivot_df.columns), ascending=False)\n",
    "pivot_df\n"
   ]
  },
  {
   "cell_type": "code",
   "execution_count": 16,
   "metadata": {
    "executionInfo": {
     "elapsed": 205,
     "status": "ok",
     "timestamp": 1728785233501,
     "user": {
      "displayName": "G R",
      "userId": "01677386158693807048"
     },
     "user_tz": 420
    },
    "id": "YL8Bj4pBcCHA"
   },
   "outputs": [],
   "source": [
    "# create a pivot df to see the sum of Supplier Contract Amount (USD) by  Borrower Country / Economy by year\n",
    "# pivot_df = pd.pivot_table(new_df, values='Supplier Contract Amount (USD)', index='Fiscal Year', columns='Borrower Country / Economy', aggfunc='sum')\n",
    "# pivot_df = pivot_df.fillna(0)\n",
    "# pivot_df"
   ]
  },
  {
   "cell_type": "code",
   "execution_count": null,
   "metadata": {
    "id": "MNYfptzIeCVV"
   },
   "outputs": [],
   "source": []
  },
  {
   "cell_type": "code",
   "execution_count": 17,
   "metadata": {
    "colab": {
     "base_uri": "https://localhost:8080/",
     "height": 455
    },
    "executionInfo": {
     "elapsed": 182,
     "status": "ok",
     "timestamp": 1728785235666,
     "user": {
      "displayName": "G R",
      "userId": "01677386158693807048"
     },
     "user_tz": 420
    },
    "id": "gauvgbzjDoAQ",
    "outputId": "d7e4e531-67b8-45b4-9a1d-c3f58114ff58"
   },
   "outputs": [
    {
     "data": {
      "text/html": [
       "<div>\n",
       "<style scoped>\n",
       "    .dataframe tbody tr th:only-of-type {\n",
       "        vertical-align: middle;\n",
       "    }\n",
       "\n",
       "    .dataframe tbody tr th {\n",
       "        vertical-align: top;\n",
       "    }\n",
       "\n",
       "    .dataframe thead th {\n",
       "        text-align: right;\n",
       "    }\n",
       "</style>\n",
       "<table border=\"1\" class=\"dataframe\">\n",
       "  <thead>\n",
       "    <tr style=\"text-align: right;\">\n",
       "      <th></th>\n",
       "      <th></th>\n",
       "      <th>Supplier Contract Amount (USD)</th>\n",
       "    </tr>\n",
       "    <tr>\n",
       "      <th>Borrower Country / Economy</th>\n",
       "      <th>Fiscal Year</th>\n",
       "      <th></th>\n",
       "    </tr>\n",
       "  </thead>\n",
       "  <tbody>\n",
       "    <tr>\n",
       "      <th rowspan=\"5\" valign=\"top\">Afghanistan</th>\n",
       "      <th>2017</th>\n",
       "      <td>5.344141e+08</td>\n",
       "    </tr>\n",
       "    <tr>\n",
       "      <th>2018</th>\n",
       "      <td>3.028574e+08</td>\n",
       "    </tr>\n",
       "    <tr>\n",
       "      <th>2019</th>\n",
       "      <td>8.758000e+08</td>\n",
       "    </tr>\n",
       "    <tr>\n",
       "      <th>2020</th>\n",
       "      <td>3.453970e+08</td>\n",
       "    </tr>\n",
       "    <tr>\n",
       "      <th>2021</th>\n",
       "      <td>3.181813e+08</td>\n",
       "    </tr>\n",
       "    <tr>\n",
       "      <th>...</th>\n",
       "      <th>...</th>\n",
       "      <td>...</td>\n",
       "    </tr>\n",
       "    <tr>\n",
       "      <th rowspan=\"5\" valign=\"top\">Zimbabwe</th>\n",
       "      <th>2021</th>\n",
       "      <td>2.657108e+06</td>\n",
       "    </tr>\n",
       "    <tr>\n",
       "      <th>2022</th>\n",
       "      <td>3.189529e+06</td>\n",
       "    </tr>\n",
       "    <tr>\n",
       "      <th>2023</th>\n",
       "      <td>1.481013e+06</td>\n",
       "    </tr>\n",
       "    <tr>\n",
       "      <th>2024</th>\n",
       "      <td>1.145092e+06</td>\n",
       "    </tr>\n",
       "    <tr>\n",
       "      <th>2025</th>\n",
       "      <td>3.469800e+04</td>\n",
       "    </tr>\n",
       "  </tbody>\n",
       "</table>\n",
       "<p>1243 rows × 1 columns</p>\n",
       "</div>"
      ],
      "text/plain": [
       "                                        Supplier Contract Amount (USD)\n",
       "Borrower Country / Economy Fiscal Year                                \n",
       "Afghanistan                2017                           5.344141e+08\n",
       "                           2018                           3.028574e+08\n",
       "                           2019                           8.758000e+08\n",
       "                           2020                           3.453970e+08\n",
       "                           2021                           3.181813e+08\n",
       "...                                                                ...\n",
       "Zimbabwe                   2021                           2.657108e+06\n",
       "                           2022                           3.189529e+06\n",
       "                           2023                           1.481013e+06\n",
       "                           2024                           1.145092e+06\n",
       "                           2025                           3.469800e+04\n",
       "\n",
       "[1243 rows x 1 columns]"
      ]
     },
     "execution_count": 17,
     "metadata": {},
     "output_type": "execute_result"
    }
   ],
   "source": [
    "#Index the pivot df  by year and then county by highest amount for top 5 countries\n",
    "\n",
    "contract_amount = pd.pivot_table(new_df, values='Supplier Contract Amount (USD)', index=['Borrower Country / Economy', 'Fiscal Year'], aggfunc='sum')\n",
    "# contract_amount = contract_amount.sort_values(by=['Fiscal Year', 'Supplier Contract Amount (USD)'], ascending=[True, False])\n",
    "# contract_amount = contract_amount.groupby('Fiscal Year').head(5)\n",
    "# contract_amount = contract_amount.rename(columns={'Borrower Country / Economy':'Country','Supplier Contract Amount (USD)':'Total Spending Amount'})\n",
    "contract_amount"
   ]
  },
  {
   "cell_type": "code",
   "execution_count": 18,
   "metadata": {
    "colab": {
     "base_uri": "https://localhost:8080/",
     "height": 455
    },
    "executionInfo": {
     "elapsed": 217,
     "status": "ok",
     "timestamp": 1728785239412,
     "user": {
      "displayName": "G R",
      "userId": "01677386158693807048"
     },
     "user_tz": 420
    },
    "id": "QA8L0ZwDJoe_",
    "outputId": "d4ff7cfe-fac7-48e0-c12f-b3cd0329e209"
   },
   "outputs": [
    {
     "data": {
      "text/html": [
       "<div>\n",
       "<style scoped>\n",
       "    .dataframe tbody tr th:only-of-type {\n",
       "        vertical-align: middle;\n",
       "    }\n",
       "\n",
       "    .dataframe tbody tr th {\n",
       "        vertical-align: top;\n",
       "    }\n",
       "\n",
       "    .dataframe thead th {\n",
       "        text-align: right;\n",
       "    }\n",
       "</style>\n",
       "<table border=\"1\" class=\"dataframe\">\n",
       "  <thead>\n",
       "    <tr style=\"text-align: right;\">\n",
       "      <th></th>\n",
       "      <th></th>\n",
       "      <th>Supplier ID</th>\n",
       "    </tr>\n",
       "    <tr>\n",
       "      <th>Borrower Country / Economy</th>\n",
       "      <th>Fiscal Year</th>\n",
       "      <th></th>\n",
       "    </tr>\n",
       "  </thead>\n",
       "  <tbody>\n",
       "    <tr>\n",
       "      <th rowspan=\"5\" valign=\"top\">Afghanistan</th>\n",
       "      <th>2017</th>\n",
       "      <td>329</td>\n",
       "    </tr>\n",
       "    <tr>\n",
       "      <th>2018</th>\n",
       "      <td>286</td>\n",
       "    </tr>\n",
       "    <tr>\n",
       "      <th>2019</th>\n",
       "      <td>508</td>\n",
       "    </tr>\n",
       "    <tr>\n",
       "      <th>2020</th>\n",
       "      <td>611</td>\n",
       "    </tr>\n",
       "    <tr>\n",
       "      <th>2021</th>\n",
       "      <td>1225</td>\n",
       "    </tr>\n",
       "    <tr>\n",
       "      <th>...</th>\n",
       "      <th>...</th>\n",
       "      <td>...</td>\n",
       "    </tr>\n",
       "    <tr>\n",
       "      <th rowspan=\"5\" valign=\"top\">Zimbabwe</th>\n",
       "      <th>2021</th>\n",
       "      <td>39</td>\n",
       "    </tr>\n",
       "    <tr>\n",
       "      <th>2022</th>\n",
       "      <td>67</td>\n",
       "    </tr>\n",
       "    <tr>\n",
       "      <th>2023</th>\n",
       "      <td>40</td>\n",
       "    </tr>\n",
       "    <tr>\n",
       "      <th>2024</th>\n",
       "      <td>13</td>\n",
       "    </tr>\n",
       "    <tr>\n",
       "      <th>2025</th>\n",
       "      <td>1</td>\n",
       "    </tr>\n",
       "  </tbody>\n",
       "</table>\n",
       "<p>1243 rows × 1 columns</p>\n",
       "</div>"
      ],
      "text/plain": [
       "                                        Supplier ID\n",
       "Borrower Country / Economy Fiscal Year             \n",
       "Afghanistan                2017                 329\n",
       "                           2018                 286\n",
       "                           2019                 508\n",
       "                           2020                 611\n",
       "                           2021                1225\n",
       "...                                             ...\n",
       "Zimbabwe                   2021                  39\n",
       "                           2022                  67\n",
       "                           2023                  40\n",
       "                           2024                  13\n",
       "                           2025                   1\n",
       "\n",
       "[1243 rows x 1 columns]"
      ]
     },
     "execution_count": 18,
     "metadata": {},
     "output_type": "execute_result"
    }
   ],
   "source": [
    "supplier_count = pd.pivot_table(new_df, values='Supplier ID', index=['Borrower Country / Economy', 'Fiscal Year',], aggfunc='count')\n",
    "# supplier_count = supplier_count.sort_values(by=['Fiscal Year', 'Supplier ID'], ascending=[True, False])\n",
    "# supplier_count = supplier_count.groupby('Fiscal Year').head(5)\n",
    "# supplier_count = supplier_count.rename(columns={'Supplier ID':'Supplier Count'})\n",
    "supplier_count\n",
    "\n"
   ]
  },
  {
   "cell_type": "code",
   "execution_count": 19,
   "metadata": {
    "colab": {
     "base_uri": "https://localhost:8080/",
     "height": 423
    },
    "executionInfo": {
     "elapsed": 197,
     "status": "ok",
     "timestamp": 1728785774543,
     "user": {
      "displayName": "G R",
      "userId": "01677386158693807048"
     },
     "user_tz": 420
    },
    "id": "9rbsPA0GeWwH",
    "outputId": "e4d434ed-ea79-4ca0-fa3a-8dcb540351fa"
   },
   "outputs": [
    {
     "data": {
      "text/html": [
       "<div>\n",
       "<style scoped>\n",
       "    .dataframe tbody tr th:only-of-type {\n",
       "        vertical-align: middle;\n",
       "    }\n",
       "\n",
       "    .dataframe tbody tr th {\n",
       "        vertical-align: top;\n",
       "    }\n",
       "\n",
       "    .dataframe thead th {\n",
       "        text-align: right;\n",
       "    }\n",
       "</style>\n",
       "<table border=\"1\" class=\"dataframe\">\n",
       "  <thead>\n",
       "    <tr style=\"text-align: right;\">\n",
       "      <th></th>\n",
       "      <th>Borrower Country / Economy</th>\n",
       "      <th>Fiscal Year</th>\n",
       "      <th>Supplier Contract Amount (USD)</th>\n",
       "      <th>Supplier ID</th>\n",
       "    </tr>\n",
       "  </thead>\n",
       "  <tbody>\n",
       "    <tr>\n",
       "      <th>0</th>\n",
       "      <td>Afghanistan</td>\n",
       "      <td>2017</td>\n",
       "      <td>5.344141e+08</td>\n",
       "      <td>329</td>\n",
       "    </tr>\n",
       "    <tr>\n",
       "      <th>1</th>\n",
       "      <td>Afghanistan</td>\n",
       "      <td>2018</td>\n",
       "      <td>3.028574e+08</td>\n",
       "      <td>286</td>\n",
       "    </tr>\n",
       "    <tr>\n",
       "      <th>2</th>\n",
       "      <td>Afghanistan</td>\n",
       "      <td>2019</td>\n",
       "      <td>8.758000e+08</td>\n",
       "      <td>508</td>\n",
       "    </tr>\n",
       "    <tr>\n",
       "      <th>3</th>\n",
       "      <td>Afghanistan</td>\n",
       "      <td>2020</td>\n",
       "      <td>3.453970e+08</td>\n",
       "      <td>611</td>\n",
       "    </tr>\n",
       "    <tr>\n",
       "      <th>4</th>\n",
       "      <td>Afghanistan</td>\n",
       "      <td>2021</td>\n",
       "      <td>3.181813e+08</td>\n",
       "      <td>1225</td>\n",
       "    </tr>\n",
       "    <tr>\n",
       "      <th>...</th>\n",
       "      <td>...</td>\n",
       "      <td>...</td>\n",
       "      <td>...</td>\n",
       "      <td>...</td>\n",
       "    </tr>\n",
       "    <tr>\n",
       "      <th>1238</th>\n",
       "      <td>Zimbabwe</td>\n",
       "      <td>2021</td>\n",
       "      <td>2.657108e+06</td>\n",
       "      <td>39</td>\n",
       "    </tr>\n",
       "    <tr>\n",
       "      <th>1239</th>\n",
       "      <td>Zimbabwe</td>\n",
       "      <td>2022</td>\n",
       "      <td>3.189529e+06</td>\n",
       "      <td>67</td>\n",
       "    </tr>\n",
       "    <tr>\n",
       "      <th>1240</th>\n",
       "      <td>Zimbabwe</td>\n",
       "      <td>2023</td>\n",
       "      <td>1.481013e+06</td>\n",
       "      <td>40</td>\n",
       "    </tr>\n",
       "    <tr>\n",
       "      <th>1241</th>\n",
       "      <td>Zimbabwe</td>\n",
       "      <td>2024</td>\n",
       "      <td>1.145092e+06</td>\n",
       "      <td>13</td>\n",
       "    </tr>\n",
       "    <tr>\n",
       "      <th>1242</th>\n",
       "      <td>Zimbabwe</td>\n",
       "      <td>2025</td>\n",
       "      <td>3.469800e+04</td>\n",
       "      <td>1</td>\n",
       "    </tr>\n",
       "  </tbody>\n",
       "</table>\n",
       "<p>1243 rows × 4 columns</p>\n",
       "</div>"
      ],
      "text/plain": [
       "     Borrower Country / Economy  Fiscal Year  Supplier Contract Amount (USD)  \\\n",
       "0                   Afghanistan         2017                    5.344141e+08   \n",
       "1                   Afghanistan         2018                    3.028574e+08   \n",
       "2                   Afghanistan         2019                    8.758000e+08   \n",
       "3                   Afghanistan         2020                    3.453970e+08   \n",
       "4                   Afghanistan         2021                    3.181813e+08   \n",
       "...                         ...          ...                             ...   \n",
       "1238                   Zimbabwe         2021                    2.657108e+06   \n",
       "1239                   Zimbabwe         2022                    3.189529e+06   \n",
       "1240                   Zimbabwe         2023                    1.481013e+06   \n",
       "1241                   Zimbabwe         2024                    1.145092e+06   \n",
       "1242                   Zimbabwe         2025                    3.469800e+04   \n",
       "\n",
       "      Supplier ID  \n",
       "0             329  \n",
       "1             286  \n",
       "2             508  \n",
       "3             611  \n",
       "4            1225  \n",
       "...           ...  \n",
       "1238           39  \n",
       "1239           67  \n",
       "1240           40  \n",
       "1241           13  \n",
       "1242            1  \n",
       "\n",
       "[1243 rows x 4 columns]"
      ]
     },
     "execution_count": 19,
     "metadata": {},
     "output_type": "execute_result"
    }
   ],
   "source": [
    "merged_df = pd.merge(contract_amount, supplier_count, how='left', on=['Borrower Country / Economy','Fiscal Year'])\n",
    "merged_df.reset_index(inplace=True)\n",
    "merged_df"
   ]
  },
  {
   "cell_type": "code",
   "execution_count": 20,
   "metadata": {
    "colab": {
     "base_uri": "https://localhost:8080/",
     "height": 300
    },
    "executionInfo": {
     "elapsed": 204,
     "status": "ok",
     "timestamp": 1728786289571,
     "user": {
      "displayName": "G R",
      "userId": "01677386158693807048"
     },
     "user_tz": 420
    },
    "id": "F_KJOTC_uttz",
    "outputId": "563912f3-525e-4efc-fea2-901056b64e33"
   },
   "outputs": [
    {
     "data": {
      "text/html": [
       "<div>\n",
       "<style scoped>\n",
       "    .dataframe tbody tr th:only-of-type {\n",
       "        vertical-align: middle;\n",
       "    }\n",
       "\n",
       "    .dataframe tbody tr th {\n",
       "        vertical-align: top;\n",
       "    }\n",
       "\n",
       "    .dataframe thead th {\n",
       "        text-align: right;\n",
       "    }\n",
       "</style>\n",
       "<table border=\"1\" class=\"dataframe\">\n",
       "  <thead>\n",
       "    <tr style=\"text-align: right;\">\n",
       "      <th></th>\n",
       "      <th>Fiscal Year</th>\n",
       "      <th>Spending Amount</th>\n",
       "      <th>Supplier Count</th>\n",
       "    </tr>\n",
       "  </thead>\n",
       "  <tbody>\n",
       "    <tr>\n",
       "      <th>0</th>\n",
       "      <td>2017</td>\n",
       "      <td>5.344141e+08</td>\n",
       "      <td>329</td>\n",
       "    </tr>\n",
       "    <tr>\n",
       "      <th>1</th>\n",
       "      <td>2018</td>\n",
       "      <td>3.028574e+08</td>\n",
       "      <td>286</td>\n",
       "    </tr>\n",
       "    <tr>\n",
       "      <th>2</th>\n",
       "      <td>2019</td>\n",
       "      <td>8.758000e+08</td>\n",
       "      <td>508</td>\n",
       "    </tr>\n",
       "    <tr>\n",
       "      <th>3</th>\n",
       "      <td>2020</td>\n",
       "      <td>3.453970e+08</td>\n",
       "      <td>611</td>\n",
       "    </tr>\n",
       "    <tr>\n",
       "      <th>4</th>\n",
       "      <td>2021</td>\n",
       "      <td>3.181813e+08</td>\n",
       "      <td>1225</td>\n",
       "    </tr>\n",
       "    <tr>\n",
       "      <th>5</th>\n",
       "      <td>2022</td>\n",
       "      <td>3.086722e+06</td>\n",
       "      <td>54</td>\n",
       "    </tr>\n",
       "    <tr>\n",
       "      <th>6</th>\n",
       "      <td>2024</td>\n",
       "      <td>5.592236e+05</td>\n",
       "      <td>16</td>\n",
       "    </tr>\n",
       "    <tr>\n",
       "      <th>7</th>\n",
       "      <td>2025</td>\n",
       "      <td>6.722842e+04</td>\n",
       "      <td>8</td>\n",
       "    </tr>\n",
       "  </tbody>\n",
       "</table>\n",
       "</div>"
      ],
      "text/plain": [
       "   Fiscal Year  Spending Amount  Supplier Count\n",
       "0         2017     5.344141e+08             329\n",
       "1         2018     3.028574e+08             286\n",
       "2         2019     8.758000e+08             508\n",
       "3         2020     3.453970e+08             611\n",
       "4         2021     3.181813e+08            1225\n",
       "5         2022     3.086722e+06              54\n",
       "6         2024     5.592236e+05              16\n",
       "7         2025     6.722842e+04               8"
      ]
     },
     "execution_count": 20,
     "metadata": {},
     "output_type": "execute_result"
    }
   ],
   "source": [
    "Afghanistan_df = merged_df[merged_df['Borrower Country / Economy'] == 'Afghanistan'].set_index('Fiscal Year',drop=True)\n",
    "Afghanistan_df.drop(columns=['Borrower Country / Economy'], inplace=True)\n",
    "Afghanistan_df.reset_index(inplace=True)\n",
    "Afghanistan_df=Afghanistan_df.rename(columns={'Supplier Contract Amount (USD)':'Spending Amount','Supplier ID':'Supplier Count'})\n",
    "Afghanistan_df"
   ]
  },
  {
   "cell_type": "code",
   "execution_count": 21,
   "metadata": {
    "colab": {
     "base_uri": "https://localhost:8080/",
     "height": 472
    },
    "executionInfo": {
     "elapsed": 445,
     "status": "ok",
     "timestamp": 1728786293719,
     "user": {
      "displayName": "G R",
      "userId": "01677386158693807048"
     },
     "user_tz": 420
    },
    "id": "Hy4mPV3SrErc",
    "outputId": "9842ae18-4f93-47c5-a967-487517af3f97"
   },
   "outputs": [
    {
     "data": {
      "image/png": "[encoded data removed]",
      "text/plain": [
       "<Figure size 640x480 with 1 Axes>"
      ]
     },
     "metadata": {},
     "output_type": "display_data"
    }
   ],
   "source": [
    "\n",
    "plt.scatter(Afghanistan_df['Supplier Count'], Afghanistan_df['Spending Amount'])\n",
    "plt.xlabel('Supplier Count')\n",
    "plt.ylabel('Spending Amount in Billions')\n",
    "_ = plt.title('Supplier Contract Amount vs. Supplier Count')"
   ]
  },
  {
   "cell_type": "code",
   "execution_count": 22,
   "metadata": {
    "colab": {
     "base_uri": "https://localhost:8080/",
     "height": 503
    },
    "executionInfo": {
     "elapsed": 402,
     "status": "ok",
     "timestamp": 1728786428734,
     "user": {
      "displayName": "G R",
      "userId": "01677386158693807048"
     },
     "user_tz": 420
    },
    "id": "jrDJU_wxspXA",
    "outputId": "3f5543c1-39be-47e2-e6fb-1a0f5df2ad75"
   },
   "outputs": [
    {
     "data": {
      "text/plain": [
       "<Axes: xlabel='Fiscal Year'>"
      ]
     },
     "execution_count": 22,
     "metadata": {},
     "output_type": "execute_result"
    },
    {
     "data": {
      "image/png": "[encoded data removed]",
      "text/plain": [
       "<Figure size 640x480 with 1 Axes>"
      ]
     },
     "metadata": {},
     "output_type": "display_data"
    }
   ],
   "source": [
    "Afghanistan_reset = Afghanistan_df.reset_index(drop=True)\n",
    "Afghanistan_reset.plot(kind='bar', x='Fiscal Year', y='Spending Amount', color='skyblue')"
   ]
  },
  {
   "cell_type": "code",
   "execution_count": 23,
   "metadata": {
    "colab": {
     "base_uri": "https://localhost:8080/",
     "height": 404
    },
    "executionInfo": {
     "elapsed": 189,
     "status": "ok",
     "timestamp": 1728788716545,
     "user": {
      "displayName": "G R",
      "userId": "01677386158693807048"
     },
     "user_tz": 420
    },
    "id": "xVC0TKcZrPke",
    "outputId": "c3ba86ff-41b5-48cd-cb46-1ed176a834cd"
   },
   "outputs": [
    {
     "name": "stderr",
     "output_type": "stream",
     "text": [
      "/var/folders/4p/rmrxtvt936v30345zcy84nw40000gn/T/ipykernel_34800/4235027686.py:2: SettingWithCopyWarning: \n",
      "A value is trying to be set on a copy of a slice from a DataFrame.\n",
      "Try using .loc[row_indexer,col_indexer] = value instead\n",
      "\n",
      "See the caveats in the documentation: https://pandas.pydata.org/pandas-docs/stable/user_guide/indexing.html#returning-a-view-versus-a-copy\n",
      "  af_spending['Fiscal Year'] = pd.to_datetime(af_spending['Fiscal Year'], format='%Y')\n"
     ]
    },
    {
     "data": {
      "text/html": [
       "<div>\n",
       "<style scoped>\n",
       "    .dataframe tbody tr th:only-of-type {\n",
       "        vertical-align: middle;\n",
       "    }\n",
       "\n",
       "    .dataframe tbody tr th {\n",
       "        vertical-align: top;\n",
       "    }\n",
       "\n",
       "    .dataframe thead th {\n",
       "        text-align: right;\n",
       "    }\n",
       "</style>\n",
       "<table border=\"1\" class=\"dataframe\">\n",
       "  <thead>\n",
       "    <tr style=\"text-align: right;\">\n",
       "      <th></th>\n",
       "      <th>ds</th>\n",
       "      <th>y</th>\n",
       "    </tr>\n",
       "  </thead>\n",
       "  <tbody>\n",
       "    <tr>\n",
       "      <th>0</th>\n",
       "      <td>2017-01-01</td>\n",
       "      <td>5.344141e+08</td>\n",
       "    </tr>\n",
       "    <tr>\n",
       "      <th>1</th>\n",
       "      <td>2018-01-01</td>\n",
       "      <td>3.028574e+08</td>\n",
       "    </tr>\n",
       "    <tr>\n",
       "      <th>2</th>\n",
       "      <td>2019-01-01</td>\n",
       "      <td>8.758000e+08</td>\n",
       "    </tr>\n",
       "    <tr>\n",
       "      <th>3</th>\n",
       "      <td>2020-01-01</td>\n",
       "      <td>3.453970e+08</td>\n",
       "    </tr>\n",
       "    <tr>\n",
       "      <th>4</th>\n",
       "      <td>2021-01-01</td>\n",
       "      <td>3.181813e+08</td>\n",
       "    </tr>\n",
       "    <tr>\n",
       "      <th>5</th>\n",
       "      <td>2022-01-01</td>\n",
       "      <td>3.086722e+06</td>\n",
       "    </tr>\n",
       "    <tr>\n",
       "      <th>6</th>\n",
       "      <td>2024-01-01</td>\n",
       "      <td>5.592236e+05</td>\n",
       "    </tr>\n",
       "    <tr>\n",
       "      <th>7</th>\n",
       "      <td>2025-01-01</td>\n",
       "      <td>6.722842e+04</td>\n",
       "    </tr>\n",
       "  </tbody>\n",
       "</table>\n",
       "</div>"
      ],
      "text/plain": [
       "          ds             y\n",
       "0 2017-01-01  5.344141e+08\n",
       "1 2018-01-01  3.028574e+08\n",
       "2 2019-01-01  8.758000e+08\n",
       "3 2020-01-01  3.453970e+08\n",
       "4 2021-01-01  3.181813e+08\n",
       "5 2022-01-01  3.086722e+06\n",
       "6 2024-01-01  5.592236e+05\n",
       "7 2025-01-01  6.722842e+04"
      ]
     },
     "execution_count": 23,
     "metadata": {},
     "output_type": "execute_result"
    }
   ],
   "source": [
    "\n",
    "af_spending = Afghanistan_reset[['Fiscal Year','Spending Amount']]\n",
    "af_spending['Fiscal Year'] = pd.to_datetime(af_spending['Fiscal Year'], format='%Y')\n",
    "af_spending = af_spending.rename(columns={'Spending Amount':'y','Fiscal Year':'ds'})\n",
    "af_spending"
   ]
  },
  {
   "cell_type": "code",
   "execution_count": 24,
   "metadata": {
    "colab": {
     "base_uri": "https://localhost:8080/",
     "height": 404
    },
    "executionInfo": {
     "elapsed": 196,
     "status": "ok",
     "timestamp": 1728788719345,
     "user": {
      "displayName": "G R",
      "userId": "01677386158693807048"
     },
     "user_tz": 420
    },
    "id": "e75Ehr8Asnsm",
    "outputId": "e7352309-0784-4a07-8af1-2527a3d97397"
   },
   "outputs": [
    {
     "name": "stderr",
     "output_type": "stream",
     "text": [
      "/var/folders/4p/rmrxtvt936v30345zcy84nw40000gn/T/ipykernel_34800/1761157371.py:2: SettingWithCopyWarning: \n",
      "A value is trying to be set on a copy of a slice from a DataFrame.\n",
      "Try using .loc[row_indexer,col_indexer] = value instead\n",
      "\n",
      "See the caveats in the documentation: https://pandas.pydata.org/pandas-docs/stable/user_guide/indexing.html#returning-a-view-versus-a-copy\n",
      "  af_contracts['Fiscal Year'] = pd.to_datetime(af_contracts['Fiscal Year'], format='%Y')\n"
     ]
    },
    {
     "data": {
      "text/html": [
       "<div>\n",
       "<style scoped>\n",
       "    .dataframe tbody tr th:only-of-type {\n",
       "        vertical-align: middle;\n",
       "    }\n",
       "\n",
       "    .dataframe tbody tr th {\n",
       "        vertical-align: top;\n",
       "    }\n",
       "\n",
       "    .dataframe thead th {\n",
       "        text-align: right;\n",
       "    }\n",
       "</style>\n",
       "<table border=\"1\" class=\"dataframe\">\n",
       "  <thead>\n",
       "    <tr style=\"text-align: right;\">\n",
       "      <th></th>\n",
       "      <th>ds</th>\n",
       "      <th>y</th>\n",
       "    </tr>\n",
       "  </thead>\n",
       "  <tbody>\n",
       "    <tr>\n",
       "      <th>0</th>\n",
       "      <td>2017-01-01</td>\n",
       "      <td>329</td>\n",
       "    </tr>\n",
       "    <tr>\n",
       "      <th>1</th>\n",
       "      <td>2018-01-01</td>\n",
       "      <td>286</td>\n",
       "    </tr>\n",
       "    <tr>\n",
       "      <th>2</th>\n",
       "      <td>2019-01-01</td>\n",
       "      <td>508</td>\n",
       "    </tr>\n",
       "    <tr>\n",
       "      <th>3</th>\n",
       "      <td>2020-01-01</td>\n",
       "      <td>611</td>\n",
       "    </tr>\n",
       "    <tr>\n",
       "      <th>4</th>\n",
       "      <td>2021-01-01</td>\n",
       "      <td>1225</td>\n",
       "    </tr>\n",
       "    <tr>\n",
       "      <th>5</th>\n",
       "      <td>2022-01-01</td>\n",
       "      <td>54</td>\n",
       "    </tr>\n",
       "    <tr>\n",
       "      <th>6</th>\n",
       "      <td>2024-01-01</td>\n",
       "      <td>16</td>\n",
       "    </tr>\n",
       "    <tr>\n",
       "      <th>7</th>\n",
       "      <td>2025-01-01</td>\n",
       "      <td>8</td>\n",
       "    </tr>\n",
       "  </tbody>\n",
       "</table>\n",
       "</div>"
      ],
      "text/plain": [
       "          ds     y\n",
       "0 2017-01-01   329\n",
       "1 2018-01-01   286\n",
       "2 2019-01-01   508\n",
       "3 2020-01-01   611\n",
       "4 2021-01-01  1225\n",
       "5 2022-01-01    54\n",
       "6 2024-01-01    16\n",
       "7 2025-01-01     8"
      ]
     },
     "execution_count": 24,
     "metadata": {},
     "output_type": "execute_result"
    }
   ],
   "source": [
    "af_contracts= Afghanistan_reset[['Fiscal Year','Supplier Count']]\n",
    "af_contracts['Fiscal Year'] = pd.to_datetime(af_contracts['Fiscal Year'], format='%Y')\n",
    "af_contracts = af_contracts.rename(columns={'Supplier Count':'y','Fiscal Year':'ds'})\n",
    "af_contracts"
   ]
  },
  {
   "cell_type": "code",
   "execution_count": 25,
   "metadata": {
    "colab": {
     "base_uri": "https://localhost:8080/",
     "height": 1000
    },
    "executionInfo": {
     "elapsed": 1223,
     "status": "ok",
     "timestamp": 1728789010064,
     "user": {
      "displayName": "G R",
      "userId": "01677386158693807048"
     },
     "user_tz": 420
    },
    "id": "2sB5LCPDxasd",
    "outputId": "c4bf499d-6181-4a32-de00-719cb8c397e3"
   },
   "outputs": [
    {
     "name": "stderr",
     "output_type": "stream",
     "text": [
      "20:22:45 - cmdstanpy - INFO - Chain [1] start processing\n",
      "20:22:46 - cmdstanpy - INFO - Chain [1] done processing\n",
      "/opt/anaconda3/lib/python3.12/site-packages/prophet/forecaster.py:1854: FutureWarning: 'ye' is deprecated and will be removed in a future version, please use 'YE' instead.\n",
      "  dates = pd.date_range(\n"
     ]
    },
    {
     "data": {
      "image/png": "[encoded data removed]",
      "text/plain": [
       "<Figure size 1000x600 with 1 Axes>"
      ]
     },
     "execution_count": 25,
     "metadata": {},
     "output_type": "execute_result"
    },
    {
     "data": {
      "image/png": "[encoded data removed]",
      "text/plain": [
       "<Figure size 1000x600 with 1 Axes>"
      ]
     },
     "metadata": {},
     "output_type": "display_data"
    }
   ],
   "source": [
    "model_spending = Prophet()\n",
    "model_spending.fit(af_spending)\n",
    "future_spending = model_spending.make_future_dataframe(periods=5, freq='ye')\n",
    "future_spending\n",
    "forecast_spending = model_spending.predict(future_spending)\n",
    "model_spending.plot(forecast_spending)\n"
   ]
  },
  {
   "cell_type": "code",
   "execution_count": 26,
   "metadata": {
    "colab": {
     "base_uri": "https://localhost:8080/",
     "height": 1000
    },
    "executionInfo": {
     "elapsed": 1865,
     "status": "ok",
     "timestamp": 1728789184204,
     "user": {
      "displayName": "G R",
      "userId": "01677386158693807048"
     },
     "user_tz": 420
    },
    "id": "0m7UdlSxyCVa",
    "outputId": "c68ef1a9-c163-4205-d779-f451675b88b6"
   },
   "outputs": [
    {
     "name": "stderr",
     "output_type": "stream",
     "text": [
      "20:22:46 - cmdstanpy - INFO - Chain [1] start processing\n",
      "20:22:46 - cmdstanpy - INFO - Chain [1] done processing\n",
      "/opt/anaconda3/lib/python3.12/site-packages/prophet/forecaster.py:1854: FutureWarning: 'ye' is deprecated and will be removed in a future version, please use 'YE' instead.\n",
      "  dates = pd.date_range(\n"
     ]
    },
    {
     "data": {
      "image/png": "[encoded data removed]",
      "text/plain": [
       "<Figure size 1000x600 with 1 Axes>"
      ]
     },
     "execution_count": 26,
     "metadata": {},
     "output_type": "execute_result"
    },
    {
     "data": {
      "image/png": "[encoded data removed]",
      "text/plain": [
       "<Figure size 1000x600 with 1 Axes>"
      ]
     },
     "metadata": {},
     "output_type": "display_data"
    }
   ],
   "source": [
    "model_contracts = Prophet()\n",
    "model_contracts.fit(af_contracts)\n",
    "future_contracts = model_contracts.make_future_dataframe(periods=5, freq='ye')\n",
    "future_contracts\n",
    "forecast_contracts = model_contracts.predict(future_contracts)\n",
    "model_contracts.plot(forecast_contracts)"
   ]
  },
  {
   "cell_type": "code",
   "execution_count": null,
   "metadata": {
    "id": "5rRvSjc_zlZV"
   },
   "outputs": [],
   "source": []
  }
 ],
 "metadata": {
  "colab": {
   "provenance": []
  },
  "kernelspec": {
   "display_name": "Python 3 (ipykernel)",
   "language": "python",
   "name": "python3"
  },
  "language_info": {
   "codemirror_mode": {
    "name": "ipython",
    "version": 3
   },
   "file_extension": ".py",
   "mimetype": "text/x-python",
   "name": "python",
   "nbconvert_exporter": "python",
   "pygments_lexer": "ipython3",
   "version": "3.12.4"
  }
 },
 "nbformat": 4,
 "nbformat_minor": 4
}
